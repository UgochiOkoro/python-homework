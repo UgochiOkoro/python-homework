{
 "cells": [
  {
   "cell_type": "code",
   "execution_count": 23,
   "id": "99392e91-9445-4bb0-ba2a-02d72e16764e",
   "metadata": {},
   "outputs": [],
   "source": [
    "# import libraries\n",
    "import csv\n",
    "from pathlib import Path"
   ]
  },
  {
   "cell_type": "code",
   "execution_count": 24,
   "id": "e54f166e-b2eb-481b-a701-b12f2dd80275",
   "metadata": {},
   "outputs": [],
   "source": [
    "# loading csv file\n",
    "df_load = Path(\"python_homework/budget_data.csv\") \n",
    "file_output = Path(\"python_homework/budget_analysis.txt\")"
   ]
  },
  {
   "cell_type": "code",
   "execution_count": 25,
   "id": "3ba9d6dd-440a-4699-b796-e209e780650c",
   "metadata": {},
   "outputs": [],
   "source": [
    "# naming financial parameters\n",
    "total_months = 0\n",
    "month_of_change = []\n",
    "net_change_list = []\n",
    "increase = [\"\",0]\n",
    "decrease = [\"\",999999999999999999]\n",
    "total = 0"
   ]
  },
  {
   "cell_type": "code",
   "execution_count": 26,
   "id": "970b55de-4bd9-45b1-8e0d-11b2e768b12d",
   "metadata": {},
   "outputs": [],
   "source": [
    "# reading csv file\n",
    "with open (df_load) as pybank_data:\n",
    "    reader = csv.reader(pybank_data)\n",
    "    \n",
    "    # initialize header\n",
    "    header = next(reader)\n",
    "    \n",
    "    # take first row and avoid appending\n",
    "    first_row = next(reader)\n",
    "    total_months = total_months + 1\n",
    "    total = total + int(first_row[1])\n",
    "    ptotal = int(first_row[1])\n",
    "    \n",
    "    for row in reader: \n",
    "        \n",
    "        # total of months\n",
    "        total_months = total_months + 1\n",
    "        total = total + int(row[1])\n",
    "        \n",
    "        # total change\n",
    "        net_change =  int(row[1]) - ptotal \n",
    "        ptotal = int(row[1])\n",
    "        net_change_list = net_change_list + [net_change] \n",
    "        month_of_change = month_of_change + [row[0]]\n",
    "        \n",
    "        # calculate increase\n",
    "        if net_change > increase[1]:\n",
    "            increase[0] = row[0]\n",
    "            increase[1] = net_change\n",
    "            \n",
    "        # Calculate the decrease\n",
    "        if net_change < decrease[1]:\n",
    "            decrease[0] = row[0]\n",
    "            decrease[1] = net_change\n",
    "\n"
   ]
  },
  {
   "cell_type": "code",
   "execution_count": 27,
   "id": "f40a6b84-d7f2-4e60-9202-bbd76d1322c2",
   "metadata": {},
   "outputs": [],
   "source": [
    "# Calculate the Average Net Change\n",
    "net_monthly_avg = round(sum(net_change_list) / len(net_change_list),2)"
   ]
  },
  {
   "cell_type": "code",
   "execution_count": 28,
   "id": "85000a0c-e815-49aa-8ad5-9d8410dfa745",
   "metadata": {},
   "outputs": [],
   "source": [
    "with open(file_output, \"w\") as txt_file:\n",
    "    txt_file.write(f\"Financial Analysis\\n\")\n",
    "    txt_file.write(f\"----------------------------\\n\")\n",
    "    txt_file.write(f\"Total Months: {total_months}\\n\")\n",
    "    txt_file.write(f\"Total: ${total}\\n\")\n",
    "    txt_file.write(f\"Average  Change: ${net_monthly_avg}\\n\")\n",
    "    txt_file.write(f\"Greatest Increase in Profits: {increase[0]} (${increase[1]})\\n\")\n",
    "    txt_file.write(f\"Greatest Decrease in Profits: {decrease[0]} (${decrease[1]})\\n\")"
   ]
  },
  {
   "cell_type": "code",
   "execution_count": null,
   "id": "d5c65e5d-f43a-40c5-ad6a-7c73e901dddb",
   "metadata": {},
   "outputs": [],
   "source": []
  },
  {
   "cell_type": "code",
   "execution_count": null,
   "id": "bdc74d25-b8f0-498e-9bd2-132b4c2b3c94",
   "metadata": {},
   "outputs": [],
   "source": []
  },
  {
   "cell_type": "code",
   "execution_count": null,
   "id": "5074c5a7-cf89-4485-909f-f341f6cc17e3",
   "metadata": {},
   "outputs": [],
   "source": []
  }
 ],
 "metadata": {
  "kernelspec": {
   "display_name": "Python 3 (ipykernel)",
   "language": "python",
   "name": "python3"
  },
  "language_info": {
   "codemirror_mode": {
    "name": "ipython",
    "version": 3
   },
   "file_extension": ".py",
   "mimetype": "text/x-python",
   "name": "python",
   "nbconvert_exporter": "python",
   "pygments_lexer": "ipython3",
   "version": "3.9.7"
  }
 },
 "nbformat": 4,
 "nbformat_minor": 5
}
